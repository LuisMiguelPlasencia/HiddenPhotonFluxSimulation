{
 "cells": [
  {
   "cell_type": "markdown",
   "id": "ac153768",
   "metadata": {},
   "source": [
    "# Transverse Dark Photon Flux\n",
    "\n",
    "$\\frac{d\\Phi}{dE} = \\frac{1}{4\\pi R^2}\\int 4 \\pi dr r^2  F(w,T=T(r),ne=ne(r),X=X(r)) $"
   ]
  },
  {
   "cell_type": "markdown",
   "id": "d4f623c5",
   "metadata": {},
   "source": [
    "# Main Reference: https://arxiv.org/pdf/0801.1527.pdf"
   ]
  },
  {
   "cell_type": "markdown",
   "id": "ff44ae02",
   "metadata": {},
   "source": [
    "# Packages and Utilities"
   ]
  },
  {
   "cell_type": "code",
   "execution_count": 1,
   "id": "ef8e68e7",
   "metadata": {},
   "outputs": [
    {
     "name": "stderr",
     "output_type": "stream",
     "text": [
      "C:\\Users\\Miguel Plasencia\\AppData\\Local\\Temp\\ipykernel_736\\3000703470.py:16: DeprecationWarning: Importing display from IPython.core.display is deprecated since IPython 7.14, please import from IPython display\n",
      "  from IPython.core.display import display, HTML\n"
     ]
    },
    {
     "data": {
      "text/html": [
       "<style>.container { width:90% !important; }</style>"
      ],
      "text/plain": [
       "<IPython.core.display.HTML object>"
      ]
     },
     "metadata": {},
     "output_type": "display_data"
    }
   ],
   "source": [
    "import numpy as np\n",
    "import math as mt\n",
    "import matplotlib.pyplot as plt\n",
    "from scipy.integrate import quad, dblquad\n",
    "from scipy.optimize import curve_fit, root_scalar\n",
    "from scipy import interpolate\n",
    "from scipy import optimize\n",
    "from scipy.misc import derivative\n",
    "from scipy.special import zeta as zeta\n",
    "from mpmath import cot\n",
    "from tqdm import tqdm\n",
    "import warnings\n",
    "from scipy.stats import poisson\n",
    "warnings.simplefilter(action='ignore', category=FutureWarning)\n",
    "\n",
    "from IPython.core.display import display, HTML\n",
    "display(HTML(\"<style>.container { width:90% !important; }</style>\"))"
   ]
  },
  {
   "cell_type": "markdown",
   "id": "f45e0f68",
   "metadata": {},
   "source": [
    "# Global Constants and Input Paramters"
   ]
  },
  {
   "cell_type": "markdown",
   "id": "ea63b622",
   "metadata": {},
   "source": [
    "## Global Constants and Conversion Factors"
   ]
  },
  {
   "cell_type": "code",
   "execution_count": 8,
   "id": "c9384428",
   "metadata": {},
   "outputs": [],
   "source": [
    "# Conversion factors \n",
    "KelvineV = 8.62e-5 #Boltzmann constant in eV/K\n",
    "cmeV     = 1.97e-5 # 1/cm en eV // = 1/(cm eV)\n",
    "mm1eV     = 1.97e-7 # 1/m en eV // = 1/(m eV)\n",
    "seV      = 0.658211952e-15 # 1/s en eV   http://wild.life.nctu.edu.tw/class/common/energy-unit-conv-table.html\n",
    "yr_to_s  = 3.154e+7 #seconds in a year\n",
    "# Constants\n",
    "T0 = 1300 # T IN SUN'S CENTER, in eV\n",
    "\n",
    "me_eV    = 511000 #electron mass in eV\n",
    "mU = 1.66e-24 #atomic mass unit in gr\n",
    "mU_eV = 931.5e6 #atomic mass unit in eV\n",
    "\n",
    "ymax=1e-900 #for plotting convenience\n",
    "\n",
    "R_ES = 1.5e+14 #in cm\n",
    "# JAVI RES in eV = RES in cm/cmeV ... see above\n",
    "R_ES = R_ES/cmeV\n",
    "R_SUN = 6.98e10/cmeV\n",
    "\n",
    "alpha=1/137 # Adimensional "
   ]
  },
  {
   "cell_type": "markdown",
   "id": "fb431571",
   "metadata": {},
   "source": [
    "## Input Parameters"
   ]
  },
  {
   "cell_type": "code",
   "execution_count": 94,
   "id": "267355fd",
   "metadata": {},
   "outputs": [],
   "source": [
    "#MASSES\n",
    "\n",
    "m     = 1 #hidden photon mass, default 1 eV\n",
    "m2    = m**2 #defined for upcoming convenience\n",
    "m_min = 0.0001 #in eV, useful in some plasma frequency range\n",
    "m_max = 1000 #in eV, useful in some plasma frequency range\n",
    "\n",
    "#FREQUENCIES\n",
    "\n",
    "w            = np.logspace(0,7,200) #energy/frequency range\n",
    "w_l          = np.logspace(2,4,100) #energy/frequency range for integrals\n",
    "w_l_sim_prob = np.linspace(500,15000,100) #energy/frequency range for integrals in the simulation"
   ]
  },
  {
   "cell_type": "markdown",
   "id": "bf38f222",
   "metadata": {},
   "source": [
    "## Detector Parameters  (https://arxiv.org/pdf/2010.12076.pdf)"
   ]
  },
  {
   "cell_type": "markdown",
   "id": "a389cd87",
   "metadata": {},
   "source": [
    "### Baby IAXO, IAXO and IAXO +"
   ]
  },
  {
   "cell_type": "code",
   "execution_count": 10,
   "id": "42804a7f",
   "metadata": {},
   "outputs": [],
   "source": [
    "def baby_iaxo_values():\n",
    "    B, L, A, f_M, b, eps_d, eps_o, a, eps_t, t = 2, 1000, 7700, 230,1e-10, 0.7,0.35, 2*3000, 0.5, 1.5*yr_to_s\n",
    "    return B, L, A, f_M, b, eps_d, eps_o, a, eps_t, t\n",
    "\n",
    "def iaxo_values():\n",
    "    B, L, A, f_M, b, eps_d, eps_o, a, eps_t, t = 2.5, 2000, 23000, 6000,1e-11, 0.8,0.7, 8*1500, 0.5, 3*yr_to_s\n",
    "    return B, L, A, f_M, b, eps_d, eps_o, a, eps_t, t\n",
    "\n",
    "def iaxo_plus_values():\n",
    "    B, L, A, f_M, b, eps_d, eps_o, a, eps_t, t = 3.5, 2200, 39000, 24000,1e-12, 0.8,0.7, 8*1500, 0.5, 5*yr_to_s\n",
    "    return B, L, A, f_M, b, eps_d, eps_o, a, eps_t, t\n",
    "\n",
    "def CAST_values():\n",
    "    B, L, A, f_M, b, eps_d, eps_o, a, eps_t, t = 9, 926, 30, 21,1e-9, 0.6,0.3, 1500, 0.12, 1*yr_to_s\n",
    "    return B, L, A, f_M, b, eps_d, eps_o, a, eps_t, t"
   ]
  },
  {
   "cell_type": "code",
   "execution_count": 11,
   "id": "3adb7cf4",
   "metadata": {},
   "outputs": [],
   "source": [
    "baby_iaxo, iaxo, iaxo_plus, cast = baby_iaxo_values(), iaxo_values(), iaxo_plus_values(), CAST_values()"
   ]
  },
  {
   "cell_type": "markdown",
   "id": "d59a49a2",
   "metadata": {},
   "source": [
    "### SELECT THE DETECTOR"
   ]
  },
  {
   "cell_type": "code",
   "execution_count": 101,
   "id": "cc60b34c",
   "metadata": {},
   "outputs": [],
   "source": [
    "# detector = baby_iaxo\n",
    "# detector = iaxo\n",
    "detector = iaxo_plus\n",
    "# detector = cast  "
   ]
  },
  {
   "cell_type": "markdown",
   "id": "7c28f5b2",
   "metadata": {},
   "source": [
    "## UPPER LIMITS MEAN OF  POISSON VARIABLE "
   ]
  },
  {
   "cell_type": "code",
   "execution_count": 100,
   "id": "bdbfc76d",
   "metadata": {},
   "outputs": [],
   "source": [
    "def poisson_likelihood(N_exp, ampliar):\n",
    "    P = [3.0, 4.74, 6.30, 7.75, 9.15, 10.51, 11.84, 13.15, 14.43, 15.71, 16.98] \n",
    "    background = np.sqrt(detector[4]*(w_l_sim_prob[-1]-w_l_sim_prob[0])/1000*detector[7]*ampliar*detector[8]*detector[9]/N_exp)\n",
    "    if int(background)<11:\n",
    "        Poisson = P[int(background)]\n",
    "    else:\n",
    "        Poisson = background\n",
    "    \n",
    "    return Poisson"
   ]
  },
  {
   "cell_type": "markdown",
   "id": "610f9c22",
   "metadata": {},
   "source": [
    "# Interpolation of Data from Different Solar Models\n",
    "# (https://github.com/sebhoof/SolarAxionFlux)"
   ]
  },
  {
   "cell_type": "markdown",
   "id": "3451624f",
   "metadata": {},
   "source": [
    "## Solar Model  Data"
   ]
  },
  {
   "cell_type": "code",
   "execution_count": 147,
   "id": "97d4aff2",
   "metadata": {
    "scrolled": true
   },
   "outputs": [],
   "source": [
    "# ddir = './SolarAxionFlux/data/solar_models/'\n",
    "# SM1 = np.loadtxt(ddir+'SolarModel_AGS05.dat')\n",
    "# SM1 = np.loadtxt('SolarModel_AGS05.dat')\n",
    "SM1 = np.loadtxt('SolarModel_AGSS09.dat') #SM2\n",
    "# SM3 = np.loadtxt('SolarModel_AGSS09ph.dat')\n",
    "# SM4 = np.loadtxt('SolarModel_B16-AGSS09.dat')\n",
    "# SM5 = np.loadtxt('SolarModel_B16-GS98.dat')\n",
    "# SM6 = np.loadtxt('SolarModel_BP00.dat')\n",
    "# SM7 = np.loadtxt('SolarModel_BP04.dat')\n",
    "# SM8 = np.loadtxt('SolarModel_BP98.dat')\n",
    "# SM9 = np.loadtxt('SolarModel_BS05-AGSOP.dat')\n",
    "# SM10 = np.loadtxt('SolarModel_BS05-OP.dat')\n",
    "# SM11 = np.loadtxt('SolarModel_GS98.dat')"
   ]
  },
  {
   "cell_type": "code",
   "execution_count": 148,
   "id": "2560fbcc",
   "metadata": {},
   "outputs": [],
   "source": [
    "# For Solar Model\n",
    "r_SM1 = SM1[:,1] #* R_ES          # in eV\n",
    "T_SM1 = SM1[:,2]*KelvineV         # in eV \n",
    "X_H   = SM1[:,6]                  # adim\n",
    "X_He  = SM1[:,7]                  # adim\n",
    "rho   = SM1[:,3]*cmeV**3          # in gr eV^3\n",
    "\n",
    "# r_values \n",
    "r     = np.linspace(r_SM1[0],r_SM1[len(r_SM1)-2],1000)\n",
    "r_SUN = r*R_SUN"
   ]
  },
  {
   "cell_type": "markdown",
   "id": "e6e25e73",
   "metadata": {},
   "source": [
    "### Solar Model Data Interpolation"
   ]
  },
  {
   "cell_type": "code",
   "execution_count": 149,
   "id": "c85a0f13",
   "metadata": {},
   "outputs": [],
   "source": [
    "Ti_SM1   = interpolate.interp1d(r_SM1, T_SM1,kind='cubic')\n",
    "XHi_SM1  = interpolate.interp1d(r_SM1, X_H, kind = 'cubic')\n",
    "XHei_SM1 = interpolate.interp1d(r_SM1, X_He, kind = 'cubic')\n",
    "rhoi_SM1 = interpolate.interp1d(r_SM1, rho, kind = 'cubic')"
   ]
  },
  {
   "cell_type": "markdown",
   "id": "a2946c3e",
   "metadata": {},
   "source": [
    "# Gaunt Factor"
   ]
  },
  {
   "cell_type": "code",
   "execution_count": 150,
   "id": "b11f29f0",
   "metadata": {},
   "outputs": [],
   "source": [
    "# For computing the electron number density \n",
    "def ne_fun(r): # in eV3 (if rho is in gr eV3 an mU in gr)\n",
    "    ne = rhoi_SM1(r)/mU * ( XHi_SM1(r) + 2*XHei_SM1(r)/4 )  \n",
    "    return ne\n",
    "\n",
    "def inta(r,y2,W):\n",
    "    #return ((y2**2+(4*r**2+2*W)*y2+W**2)*np.log(y2+2*r*(np.sqrt(r**2+W)+r)+W)+(-y2**2+(-4*r**2-2*W)*y2-W**2)*np.log(y2+(np.sqrt(r**2+W)-r)**2)-4*r*np.sqrt(r**+W)*y2)/(2*(y2**2+(4*r**2+2*W)*y2+W**2))\n",
    "    t0 = np.sqrt(r**2+W)-r\n",
    "    t2 = np.sqrt(r**2+W)+r\n",
    "    f0 = t0**2+y2\n",
    "    f2 = t2**2+y2\n",
    "    return 0.5*( y2*(1/f2-1/f0) + np.log(f2/f0))\n",
    "\n",
    "def Gaunt_Factor(x,r,w,gaunt = True):\n",
    "    X   = XHi_SM1(r)\n",
    "    ne  = ne_fun(r)\n",
    "    T   = Ti_SM1(r)\n",
    "    cte = 8*np.pi*alpha/(me_eV*T**2)\n",
    "    y2  = cte * (3+X)/(1+X)*ne\n",
    "    W   = w/T\n",
    "    kk  = 2*np.pi*alpha*np.sqrt(me_eV/(2*T))\n",
    "    if gaunt:\n",
    "        COCIENTE = np.sqrt(x**2+W)/x *(1-np.exp(-kk/np.sqrt(x**2+W)) )/(1-np.exp(-kk/x))\n",
    "    else :\n",
    "        COCIENTE = 1 \n",
    "    # Integrand of the function\n",
    "    f_FF = 0.5*x*np.exp(-x**2) * COCIENTE * inta(x,y2,W)\n",
    "    return f_FF \n",
    "\n",
    "def cGF(r,w):\n",
    "    i1 = quad(Gaunt_Factor, 1e-10,np.inf, args=(r,w,True))\n",
    "    i2 = quad(Gaunt_Factor, 1e-10,np.inf, args=(r,w,False))\n",
    "    return i1, i2\n",
    "\n",
    "def cGF2(r,w):\n",
    "    i1 = quad(Gaunt_Factor, 1e-10,np.inf, args=(r,w,True))\n",
    "    return i1"
   ]
  },
  {
   "cell_type": "markdown",
   "id": "dff7f48b",
   "metadata": {},
   "source": [
    "## Computing Gaunt Factor"
   ]
  },
  {
   "cell_type": "code",
   "execution_count": 151,
   "id": "f63590e8",
   "metadata": {},
   "outputs": [
    {
     "name": "stderr",
     "output_type": "stream",
     "text": [
      "100%|████████████████████████████████████████████████████████████████████████████████| 100/100 [11:54<00:00,  7.14s/it]\n"
     ]
    }
   ],
   "source": [
    "rt = np.linspace(r[0],r[-1],100)\n",
    "g  = np.zeros((len(rt),len(w)))\n",
    "for ir in tqdm(range(len(rt))):\n",
    "    for iw in range(len(w)):\n",
    "        i1 = cGF2(rt[ir],w[iw])\n",
    "        g[ir,iw] = i1[0]\n",
    "\n",
    "np.savetxt('matriz_Gaunt_AGSS08.dat', g, delimiter = '\\t')"
   ]
  },
  {
   "cell_type": "markdown",
   "id": "d43bd36e",
   "metadata": {},
   "source": [
    "## Reading and Interpolating the Gaunt Factor"
   ]
  },
  {
   "cell_type": "markdown",
   "id": "e552ae11",
   "metadata": {},
   "source": [
    "### NOTE: To read the matrix, it must have been previously calculated !"
   ]
  },
  {
   "cell_type": "code",
   "execution_count": 19,
   "id": "318b4cdb",
   "metadata": {},
   "outputs": [],
   "source": [
    "g_read = np.loadtxt('matriz_Gaunt.dat') #it loads the gaunt factor's values w=[500, 15000] eV \n",
    "rt_aux = np.linspace(r[0],r[-1],100)\n",
    "gaunt_interpol = interpolate.interp2d(rt_aux,w_l_sim_prob, g_read, kind='cubic')"
   ]
  },
  {
   "cell_type": "markdown",
   "id": "3467711f",
   "metadata": {},
   "source": [
    "# Functions "
   ]
  },
  {
   "cell_type": "code",
   "execution_count": 20,
   "id": "57bdb990",
   "metadata": {},
   "outputs": [],
   "source": [
    "# For exploding exponentials, exp(-x)\n",
    "def expo(x):\n",
    "    mask = x < 30\n",
    "    return mask * np.exp(-(x*mask))\n",
    "\n",
    "# For computing plasma frequency square\n",
    "def wp2_fun(ne): # in eV2 if me in eV\n",
    "    return 4*np.pi*alpha*ne/(me_eV)\n",
    "\n",
    "# For computing the Gaunt Factor\n",
    "\n",
    "# For computing the absortion coefficient, in eV if w,T in eV and ne in eV3\n",
    "def Gamma_fun(w,T,ne, GauntFact):\n",
    "    cte=8*np.pi**2*alpha**3/(3*me_eV**2)\n",
    "    return cte*(2/w**3 * np.sqrt(2*np.pi*me_eV/3*T) * ne * GauntFact * (1*ne+ 2*ne/4) * (1-expo(w/T))+ ne/alpha)\n",
    "\n",
    "# Probability plasmon --> dark photon\n",
    "def Prob1(m2, gamma,wp2,w):# in eV^2, eV, eV^2 and eV respectively\n",
    "    #return chi(np.sqrt(m2))**2*m2**2* gamma/ (( wp2 - m2)**2 + (w * gamma)**2)\n",
    "    return m2**2* gamma/ (( wp2 - m2)**2 + (w * gamma)**2)\n",
    "\n",
    "def trapezoid_rule(integral_interpol, a, b, n):\n",
    "    h = (b - a) / n\n",
    "    s = 0.5*(integral_interpol(a) + integral_interpol(b))\n",
    "    for i in range(1, n):\n",
    "        x = a + i*h\n",
    "        s += integral_interpol(x)\n",
    "    return h*s\n"
   ]
  },
  {
   "cell_type": "markdown",
   "id": "ea5976d8",
   "metadata": {},
   "source": [
    "# Probability HP--> Photon without Gas"
   ]
  },
  {
   "cell_type": "code",
   "execution_count": 21,
   "id": "f465d7ab",
   "metadata": {},
   "outputs": [],
   "source": [
    "# Probability dark photon --> former photon\n",
    "def Prob2(w,wp2,m2,L):\n",
    "    order_magnitude1 = 1e+4\n",
    "    order_magnitude2 = 3e+2\n",
    "    m = np.sqrt(m2)\n",
    "    mask1 = w/m < order_magnitude1\n",
    "    mask2 = L*m2/w < order_magnitude2\n",
    "    delta_p=(m2-wp2)/(np.sqrt(w**2-wp2)+np.sqrt(w**2-m2))\n",
    "    x = delta_p*L/2\n",
    "    Prob1 = 4*np.sin(x)*np.sin(x)\n",
    "    Prob2 = 4*np.sin(m2*L/(4*w))**2\n",
    "    \n",
    "    Prob_result = mask1*mask2*Prob1 + ~mask1*mask2*Prob2 + (~mask2)*4/2 \n",
    "    return Prob_result"
   ]
  },
  {
   "cell_type": "code",
   "execution_count": 88,
   "id": "ea7e9971",
   "metadata": {},
   "outputs": [
    {
     "data": {
      "text/plain": [
       "[<matplotlib.lines.Line2D at 0x18377a20e20>]"
      ]
     },
     "execution_count": 88,
     "metadata": {},
     "output_type": "execute_result"
    },
    {
     "data": {
      "image/png": "[encoded data removed]",
      "text/plain": [
       "<Figure size 432x288 with 1 Axes>"
      ]
     },
     "metadata": {
      "needs_background": "light"
     },
     "output_type": "display_data"
    }
   ],
   "source": [
    "masssss = np.logspace(-2,-0.5, 1000)\n",
    "# plt.plot(masssss ,  np.log10(Prob2(500,0,masssss**2,detector[1]/cmeV)))\n",
    "plt.plot(np.log10(masssss) ,  Prob2(500,0,masssss**2,detector[1]/cmeV))"
   ]
  },
  {
   "cell_type": "code",
   "execution_count": 89,
   "id": "64b89e61",
   "metadata": {},
   "outputs": [],
   "source": [
    "prob_2 = [masssss, Prob2(500,0,masssss**2,detector[1]/cmeV)]\n",
    "data_prob_2 = list(zip(*prob_2))\n",
    "np.savetxt('data_prob_2.dat', data_prob_2, delimiter='\\t')"
   ]
  },
  {
   "cell_type": "markdown",
   "id": "0b707f2b",
   "metadata": {},
   "source": [
    "# Probability HP--> Photon with Gas"
   ]
  },
  {
   "cell_type": "code",
   "execution_count": 22,
   "id": "8359fd0f",
   "metadata": {},
   "outputs": [],
   "source": [
    "\n",
    "def Prob_HP_Photon_GAS(w,wp2,m2,L,G):\n",
    "    m = np.sqrt(m2)\n",
    "    delta_p=(m2-wp2)/(np.sqrt(w**2-wp2)+np.sqrt(w**2-m2))\n",
    "#     delta_p=(m2-wp2)/(2*w)\n",
    "    x = delta_p*L\n",
    "    d = (m2-wp2)**2 + (w*G)**2\n",
    "    e = 1 - (1 - np.exp(- G * L/2))\n",
    "#     e = np.exp(- G * L/2)\n",
    "    return 4*m2**2/d * (1 + e**2 -2*e*np.cos(x))\n",
    "#     return 4*w**2/d * (1 + e**2 -2*e*np.cos(x)) # for axions\n",
    "\n",
    "def GG(m_eV,w_eV,T_K=300):\n",
    "    logEa = np.log10(w_eV/1000)\n",
    "    logpk = np.log10(m_eV**2 * T_K /0.02)\n",
    "    logT18 = np.log10(T_K/1.8)\n",
    "    log10G = 0.014*logEa**6 + 0.166*logEa**5 + 0.464*logEa**4 +0.473*logEa**3 - 0.266*logEa**2 - 3.241*logEa - 0.760 + logpk - logT18\n",
    "    return 10**log10G * mm1eV\n",
    "\n",
    "# def GGJ(pk,w_eV,T_K=300):\n",
    "#     logEa = np.log10(w_eV/1000)\n",
    "#     logpk = np.log10(pk)\n",
    "#     logT18 = np.log10(T_K/1.8)\n",
    "#     log10G = 0.014*logEa**6 + 0.166*logEa**5 + 0.464*logEa**4 +0.473*logEa**3 - 0.266*logEa**2 - 3.241*logEa - 0.760 + logpk - logT18\n",
    "#     return 10**log10G"
   ]
  },
  {
   "cell_type": "markdown",
   "id": "d05626aa",
   "metadata": {},
   "source": [
    "# Main Integrating Function (without Prob HP---> Photon)"
   ]
  },
  {
   "cell_type": "code",
   "execution_count": 23,
   "id": "5d7a0a57",
   "metadata": {},
   "outputs": [],
   "source": [
    "def F(r,w, m): # input r in RSun and w, m in eV\n",
    "    ne = ne_fun(r)\n",
    "    wp2 = wp2_fun(ne)\n",
    "    T = Ti_SM1(r)\n",
    "    m2 = m**2\n",
    "    G_FACTOR = gaunt_interpol(r,w)\n",
    "    Gamma = Gamma_fun(w,T,ne, G_FACTOR)# Gamma in eV if w,T in eV and ne in eV3\n",
    "    P = Prob1(m2,Gamma,wp2,w)\n",
    "    #print((expo(w/T)-1))\n",
    "    #return (r/(R_ES*np.pi))**2 * w * np.sqrt(w*w-m**2)*expo(w/T)/(1-expo(w/T)) * P # * chi(np.sqrt(m2))**2 * m2**2\n",
    "    return R_SUN**3*(r/(R_ES*np.pi))**2 * w * np.sqrt(w*w-m**2)*expo(w/T)/(1-expo(w/T)) * P * detector[5]* detector[6] /cmeV**2 / seV\n"
   ]
  },
  {
   "cell_type": "markdown",
   "id": "a4762660",
   "metadata": {},
   "source": [
    "# Main Integrating Function (with Prob HP---> Photon)"
   ]
  },
  {
   "cell_type": "code",
   "execution_count": 24,
   "id": "2d7301f9",
   "metadata": {},
   "outputs": [],
   "source": [
    "def F_withProb(r,w, m,flag, prob_gas): # input r in RSun and w, m in eV\n",
    "    ne = ne_fun(r)\n",
    "    wp2 = wp2_fun(ne)\n",
    "    T = Ti_SM1(r)\n",
    "    m2 = m**2\n",
    "    L = detector[1]/cmeV\n",
    "    G_FACTOR = gaunt_interpol(r,w)\n",
    "    Gamma = Gamma_fun(w,T,ne, G_FACTOR)# Gamma in eV if w,T in eV and ne in eV3\n",
    "    P_plasmon_HP = Prob1(m2,Gamma,wp2,w)\n",
    "    if flag:\n",
    "        P_HP_photon = Prob_gas\n",
    "    else:\n",
    "        P_HP_photon = Prob2(w,0,m2,L)\n",
    "    \n",
    "    output = R_SUN**3*(r/(R_ES*np.pi))**2 * w * np.sqrt(w*w-m**2)*expo(w/T)/(1-expo(w/T)) * P_plasmon_HP * P_HP_photon * detector[5]* detector[6]  /cmeV**2 / seV  # * chi(np.sqrt(m2))**2 \n",
    "    return output"
   ]
  },
  {
   "cell_type": "code",
   "execution_count": 153,
   "id": "7f6607a5",
   "metadata": {},
   "outputs": [
    {
     "name": "stderr",
     "output_type": "stream",
     "text": [
      "C:\\Users\\Miguel Plasencia\\AppData\\Local\\Temp\\ipykernel_736\\695027739.py:4: IntegrationWarning: The maximum number of subdivisions (50) has been achieved.\n",
      "  If increasing the limit yields no improvement it is advised to analyze \n",
      "  the integrand in order to determine the difficulties.  If the position of a \n",
      "  local difficulty can be determined (singularity, discontinuity) one will \n",
      "  probably gain from splitting up the interval and calling the integrator \n",
      "  on the subranges.  Perhaps a special-purpose integrator should be used.\n",
      "  I,e = quad(F_withProb, r_SM1[0], r_SM1[-1], args=(w_it,0.01,False, 1))\n",
      "C:\\Users\\Miguel Plasencia\\AppData\\Local\\Temp\\ipykernel_736\\695027739.py:4: IntegrationWarning: The occurrence of roundoff error is detected, which prevents \n",
      "  the requested tolerance from being achieved.  The error may be \n",
      "  underestimated.\n",
      "  I,e = quad(F_withProb, r_SM1[0], r_SM1[-1], args=(w_it,0.01,False, 1))\n"
     ]
    }
   ],
   "source": [
    "int_F, err_int_F = [],[]\n",
    "w_l_sim_prueba = np.linspace(500,15000,1000)\n",
    "for w_it in w_l_sim_prueba:\n",
    "    I,e = quad(F_withProb, r_SM1[0], r_SM1[-1], args=(w_it,0.01,False, 1))\n",
    "    int_F.append(I)\n",
    "    err_int_F.append(e)\n",
    "\n",
    "# plt.semilogy(w_l_sim_prob, int_F)"
   ]
  },
  {
   "cell_type": "code",
   "execution_count": 152,
   "id": "89342543",
   "metadata": {},
   "outputs": [
    {
     "data": {
      "text/plain": [
       "[<matplotlib.lines.Line2D at 0x1837ca08040>]"
      ]
     },
     "execution_count": 152,
     "metadata": {},
     "output_type": "execute_result"
    },
    {
     "data": {
      "image/png": "[encoded data removed]",
      "text/plain": [
       "<Figure size 432x288 with 1 Axes>"
      ]
     },
     "metadata": {
      "needs_background": "light"
     },
     "output_type": "display_data"
    }
   ],
   "source": [
    "plt.loglog(w_l_sim_prob, int_F)"
   ]
  },
  {
   "cell_type": "markdown",
   "id": "8f28cf55",
   "metadata": {},
   "source": [
    "# For computing the total flux of HP"
   ]
  },
  {
   "cell_type": "markdown",
   "id": "1279901f",
   "metadata": {},
   "source": [
    "## Integrating in the $r$ coordinate (example)"
   ]
  },
  {
   "cell_type": "code",
   "execution_count": 11,
   "id": "d6d27975",
   "metadata": {
    "scrolled": true
   },
   "outputs": [],
   "source": [
    "int_F, err_int_F = [],[]\n",
    "controller = 1e5\n",
    "for w_it in w_l:\n",
    "#     I,e = quad(F, r_SM1[0], r_SM1[-1], args=(w_it,m),epsrel=1e-50, epsabs=1e-70,limit=1000) \n",
    "    I,e = quad(F, r_SM1[0], r_SM1[-1], args=(w_it,m)) \n",
    "    #print('w %.1e r %.5f result %.2e error %.2e ratio %.3f'%(w_it,rmax,I,e,abs(e/(I+1e-100))*100))\n",
    "    int_F.append(I)\n",
    "    err_int_F.append(e)"
   ]
  },
  {
   "cell_type": "markdown",
   "id": "3513547c",
   "metadata": {},
   "source": [
    "# Integrating in the $\\omega$ coordinate"
   ]
  },
  {
   "cell_type": "markdown",
   "id": "cdd36c80",
   "metadata": {},
   "source": [
    "### Interpolating and Integrating (example)"
   ]
  },
  {
   "cell_type": "code",
   "execution_count": 17,
   "id": "5bbe29b8",
   "metadata": {},
   "outputs": [],
   "source": [
    "# integral_interpol_F = interpolate.interp1d(w_l, int_F, kind='cubic')\n",
    "# a, b, n = w_l[0], w_l[-1], 10000\n",
    "# result = trapezoid_rule(integral_interpol_F, a, b, n)\n",
    "# print(result)"
   ]
  },
  {
   "cell_type": "markdown",
   "id": "fab62ead",
   "metadata": {},
   "source": [
    "# Approximations "
   ]
  },
  {
   "cell_type": "markdown",
   "id": "a20604f9",
   "metadata": {},
   "source": [
    "# Suppressed Production $(m_{\\gamma '}\\ll  1 eV)$"
   ]
  },
  {
   "cell_type": "code",
   "execution_count": 25,
   "id": "2aef8cc2",
   "metadata": {},
   "outputs": [],
   "source": [
    "def F_supp(r,w,m,flag, prob_gas):\n",
    "    ne = ne_fun(r)\n",
    "    wp2 = wp2_fun(ne)\n",
    "    T = Ti_SM1(r)\n",
    "    m2 = m**2\n",
    "    L = detector[1]/cmeV\n",
    "    G_FACTOR = gaunt_interpol(r,w)\n",
    "    Gamma = Gamma_fun(w,T,ne, G_FACTOR)# Gamma in eV if w,T in eV and ne in eV3\n",
    "    P_plasmon_HP = Prob1(m2,Gamma,wp2,w)\n",
    "    \n",
    "    if flag:\n",
    "        P_HP_photon = Prob_gas\n",
    "    else:\n",
    "        P_HP_photon = Prob2(w,0,m2,L)\n",
    "    \n",
    "    return R_SUN**3*(r/(R_ES*np.pi))**2 * m2**2* (Gamma*w**2)/((expo(-(w/T))-1)*wp2**2) * P_plasmon_HP * P_HP_photon * detector[5]* detector[6]/cmeV**2 / seV \n",
    "\n",
    "\n",
    "def F_supp_analitica(w,m,flag):\n",
    "    if not flag:\n",
    "        m2 = m**2\n",
    "        L = detector[1]/cmeV\n",
    "        P_HP_photon = Prob2(w,0,m2,L)\n",
    "        F1 = 2.7e+28*((w/1000)**(-2.98))*np.exp(-w/1400) * P_HP_photon * detector[5]* detector[6]\n",
    "        \n",
    "    else: \n",
    "        F1 = 2.7e+29*((w/1000)**(-2.98))*np.exp(-w/1400)* detector[5] * detector[6] #fit of the flux in that energy range \n",
    "     \n",
    "    W = 8e+43 * m**4 #LUMINOSITY\n",
    "    return  m**4 * F1 , F1, W"
   ]
  },
  {
   "cell_type": "markdown",
   "id": "7a4ffece",
   "metadata": {},
   "source": [
    "## Fitting the Supressed Regime Flux to Different Functions"
   ]
  },
  {
   "cell_type": "code",
   "execution_count": 224,
   "id": "a82a0a53",
   "metadata": {},
   "outputs": [],
   "source": [
    "def fit_sup(w,C, w0,b):\n",
    "    return C*w**(-b)*np.exp(-w/w0)\n",
    "#     return -(b+1)*(w/w0)+ b*np.log10(w/w0) + C\n",
    "#     return C*(w/w0)**(b)*np.exp(-(b+1)*w/w0)\n",
    "        \n",
    "    "
   ]
  },
  {
   "cell_type": "code",
   "execution_count": 228,
   "id": "cc75608c",
   "metadata": {},
   "outputs": [],
   "source": [
    "int_F_supp = np.loadtxt('flux_F_supp_2.dat')\n",
    "int_F_supp = np.array(int_F_supp)\n",
    "# int_F_supp[:,1]"
   ]
  },
  {
   "cell_type": "code",
   "execution_count": 226,
   "id": "7459e585",
   "metadata": {},
   "outputs": [
    {
     "data": {
      "image/png": "[encoded data removed]",
      "text/plain": [
       "<Figure size 432x288 with 1 Axes>"
      ]
     },
     "metadata": {
      "needs_background": "light"
     },
     "output_type": "display_data"
    }
   ],
   "source": [
    "w_l_supp = np.linspace(0.5,10,len(int_F_supp[:,1]))\n",
    "# plt.loglog(w_l_supp, fit_sup(w_l_supp,43907160147614.36,-590322781545120.9,1810389380779473.2))\n",
    "# plt.loglog(w_l_supp, fit_sup(w_l_supp,3.04370100e+15,1.21540181e+00,6.87744032e-02))\n",
    "plt.loglog(w_l_supp, fit_sup(w_l_supp,4.62640394e+15,9.90476563e-01,-2.43243134e-01), label='fit')\n",
    "plt.loglog(w_l_supp, np.array(int_F_supp[:,1]) )\n",
    "plt.legend()\n",
    "plt.show()"
   ]
  },
  {
   "cell_type": "code",
   "execution_count": 229,
   "id": "c912ca20",
   "metadata": {},
   "outputs": [
    {
     "name": "stdout",
     "output_type": "stream",
     "text": [
      "[ 4.62640528e+15  9.90476310e-01 -2.43243408e-01]\n"
     ]
    }
   ],
   "source": [
    "w_l_supp = np.linspace(0.5,10,len(int_F_supp[:,1]))\n",
    "# a,b,c  = np.polyfit(w_l_supp, np.array(int_F_supp[:,1]),1)\n",
    "initial_guess = [1e+15, 1.4, -3]\n",
    "popt, pcov = curve_fit(fit_sup, w_l_supp, np.array(int_F_supp[:,1]), p0=initial_guess)\n",
    "# popt, pcov = curve_fit(fit_sup, w_l_supp, np.array(int_F_supp[:,1]))\n",
    "\n",
    "# print(a,b,c)\n",
    "print(popt)"
   ]
  },
  {
   "cell_type": "code",
   "execution_count": 172,
   "id": "3c55759b",
   "metadata": {},
   "outputs": [],
   "source": [
    "from scipy.optimize import curve_fit\n",
    "\n",
    "def fit_datos(x, y, funcion, parametros_iniciales):\n",
    "    # Definir la función de ajuste\n",
    "    def funcion_ajuste(x, *parametros):\n",
    "        return funcion(x, *parametros)\n",
    "\n",
    "    # Realizar el ajuste utilizando curve_fit de SciPy\n",
    "    parametros_optimizados, matriz_covarianza = curve_fit(funcion_ajuste, x, y, p0=parametros_iniciales)\n",
    "\n",
    "    # Devolver los parámetros optimizados\n",
    "    return parametros_optimizados\n"
   ]
  },
  {
   "cell_type": "code",
   "execution_count": 173,
   "id": "417f6946",
   "metadata": {},
   "outputs": [
    {
     "name": "stdout",
     "output_type": "stream",
     "text": [
      "[1.0e+15 1.2e+00 6.0e-01]\n"
     ]
    }
   ],
   "source": [
    "res = fit_datos(w_l_supp, np.array(int_F_supp[:,1]), fit_sup,  initial_guess )\n",
    "print(res)"
   ]
  },
  {
   "cell_type": "markdown",
   "id": "02a41103",
   "metadata": {},
   "source": [
    "## Wrinting Suppressed Regime Results in .txt"
   ]
  },
  {
   "cell_type": "code",
   "execution_count": 37,
   "id": "0f6c0562",
   "metadata": {},
   "outputs": [],
   "source": [
    "# F_1_matrix = [w_l, int_F_sup, err_int_F_sup, F_supp_analitica(w_l, m_min)[0], F_supp_analitica(w_l, m_min)[1]]\n",
    "# data_F_supp = list(zip(*F_1_matrix))\n",
    "# np.savetxt('flux_F_supp.dat', data_F_supp, delimiter='\\t')"
   ]
  },
  {
   "cell_type": "markdown",
   "id": "93c3dc15",
   "metadata": {},
   "source": [
    "# Resonant Production $( 1 eV< m_{\\gamma '}< 295 eV)$"
   ]
  },
  {
   "cell_type": "markdown",
   "id": "72c26a93",
   "metadata": {},
   "source": [
    "### Solving the equation $w_p(r_m)=m$"
   ]
  },
  {
   "cell_type": "code",
   "execution_count": 26,
   "id": "7fa433e6",
   "metadata": {},
   "outputs": [],
   "source": [
    "def wp2_fun_root(r,m2):\n",
    "    return 4*np.pi*alpha*ne_fun(r)/(me_eV)-m2"
   ]
  },
  {
   "cell_type": "code",
   "execution_count": 70,
   "id": "c47d0f8f",
   "metadata": {
    "scrolled": true
   },
   "outputs": [],
   "source": [
    "m_array = np.logspace(1, 195, len(w_l))\n",
    "r_solution = []\n",
    "\n",
    "for m_it in m_array:\n",
    "    m_aux2 = m_it**2 #mass eV\n",
    "    sol = optimize.root(wp2_fun_root, 0.3, args=(m_aux2))\n",
    "    r_solution.append(sol.x[0])\n",
    "    \n",
    "##, wp2_fun_root((sol.x)[0],0)\n"
   ]
  },
  {
   "cell_type": "code",
   "execution_count": 73,
   "id": "217aada8",
   "metadata": {},
   "outputs": [
    {
     "data": {
      "text/plain": [
       "0.6198145377677843"
      ]
     },
     "execution_count": 73,
     "metadata": {},
     "output_type": "execute_result"
    }
   ],
   "source": [
    "sol = optimize.root(wp2_fun_root, 0.3, args=(290))\n",
    "r_resonant = sol.x[0]\n",
    "r_resonant"
   ]
  },
  {
   "cell_type": "markdown",
   "id": "8ca70487",
   "metadata": {},
   "source": [
    "## Wrinting Resonant Regime Results in .txt"
   ]
  },
  {
   "cell_type": "code",
   "execution_count": 185,
   "id": "e759a42a",
   "metadata": {},
   "outputs": [],
   "source": [
    "# enhancement = [w_l, enhancement_center, enhancement_surf]\n",
    "# data_enhancement = list(zip(*enhancement))\n",
    "# np.savetxt('enhancement_resonance.dat', data_enhancement, delimiter='\\t')"
   ]
  },
  {
   "cell_type": "markdown",
   "id": "d0b5d01c",
   "metadata": {},
   "source": [
    "## Derivating plasma frequency with respect to $r$"
   ]
  },
  {
   "cell_type": "code",
   "execution_count": 27,
   "id": "1c0a9db6",
   "metadata": {
    "scrolled": true
   },
   "outputs": [],
   "source": [
    "derivada = np.gradient(wp2_fun_root(r,0),r)\n",
    "Deriv_interpol = interpolate.interp1d(r, derivada, kind='cubic')\n",
    "#derivada = np.gradient(wp2_fun(r_solution,0))"
   ]
  },
  {
   "cell_type": "code",
   "execution_count": 28,
   "id": "27ed596f",
   "metadata": {},
   "outputs": [],
   "source": [
    "def F_res(r,w,m, deriv,flag):\n",
    "    T = Ti_SM1(r)\n",
    "    if flag:\n",
    "        m2 = m**2\n",
    "        L = detector[1]/cmeV\n",
    "        P_HP_photon = Prob2(w,0,m2,L)\n",
    "        F = 2 * R_SUN**3 * (r/(R_ES*np.pi))**2 * (np.sqrt(w**2-m**2)/(expo(w/T)-1)) * m**4/deriv  * P_HP_photon * detector[5]* detector[6]/cmeV**2 / seV \n",
    "    else:\n",
    "        F = 2 * R_SUN**3 * (r/(R_ES*np.pi))**2 * (np.sqrt(w**2-m**2)/(expo(w/T)-1)) * m**4/deriv/cmeV**2 / seV\n",
    "        \n",
    "    zeta_3 = zeta (3)\n",
    "    W = 16  * m**4 * zeta_3* r**2 *T**3/(np.pi**2 * deriv)\n",
    "    return F, W"
   ]
  },
  {
   "cell_type": "markdown",
   "id": "9cbae529",
   "metadata": {},
   "source": [
    "## Evaluating magnitudes on each $r_{solution}$"
   ]
  },
  {
   "cell_type": "code",
   "execution_count": 2,
   "id": "73f0583f",
   "metadata": {},
   "outputs": [],
   "source": [
    "dwp2_dr, T_res, ne_res = [], [], []\n",
    "for r_it in r_solution:\n",
    "    dwp2_dr.append(abs(float(Deriv_interpol(r_it)))) \n",
    "    T_res.append(Ti_SM1(r_it))  \n",
    "    ne_res.append(ne_fun(r_it)) \n",
    "#wGamma_res = w * Gamma_fun(w,T_res,ne_res)\n",
    "#dr = wGamma_res/dwp2_dr\n",
    "# dwp2_dr\n",
    "r_solution ,T_res, ne_res, dwp2_dr  = np.array(r_solution), np.array(T_res), np.array(ne_res), np.array(dwp2_dr)"
   ]
  },
  {
   "cell_type": "markdown",
   "id": "d8009bde",
   "metadata": {},
   "source": [
    "## Computing the Integral for each $r_{solution}$ value"
   ]
  },
  {
   "cell_type": "code",
   "execution_count": 3,
   "id": "7fa903a2",
   "metadata": {},
   "outputs": [],
   "source": [
    "result = []\n",
    "a, b, n = w_l[0], w_l[-1], 1000\n",
    "#wGamma_res = w * Gamma_fun(w,T_res,ne_res)\n",
    "#dr = wGamma_res/dwp2_dr\n",
    "\n",
    "#for o in [r_solution,dwp2_dr,T_res,ne_res,m**2,dr[0],dr[-1]]:\n",
    "    #print(o)\n",
    "#print(r_solution)\n",
    "\n",
    "r_sol_integral = r_solution\n",
    "\n",
    "for i in range(len(r_sol_integral)):\n",
    "    int_resonant,error_resonant = [],[]\n",
    "    for w_it in w_l:\n",
    "        wGamma_res = w_it * Gamma_fun(w_it,T_res[i],ne_res[i])\n",
    "        dr = 2*wGamma_res/dwp2_dr[i]\n",
    "        rmin, rmax = max(r_SM1[0], r_sol_integral[i]-dr),min(r_SM1[-1],r_sol_integral[i]+dr)\n",
    "        #I,e = quad(F, rmin, rmax, args=(w_it,m_array[0]),epsrel=1e-50, epsabs=1e-50,limit=1000, points=r_solution)\n",
    "        I,e = quad(F, rmin, rmax, args=(w_it,m_array[0]), points=r_sol_integral)\n",
    "        int_resonant.append(I)\n",
    "        error_resonant.append(e)\n",
    "        \n",
    "    \n",
    "    integral_interpol_res = interpolate.interp1d(w_l, int_resonant, kind='cubic')\n",
    "    result_integral = trapezoid_rule(integral_interpol_res, a, b, n)\n",
    "    result.append(result_integral)\n",
    "    # print(result_integral)\n",
    "        \n",
    "        \n",
    "    "
   ]
  },
  {
   "cell_type": "markdown",
   "id": "cfeac272",
   "metadata": {},
   "source": [
    "# Unsuppressed Production $(m_{\\gamma '}\\ll  295 eV)$"
   ]
  },
  {
   "cell_type": "code",
   "execution_count": 22,
   "id": "e5030491",
   "metadata": {},
   "outputs": [],
   "source": [
    "def F_unsupp(r,w,m):\n",
    "    ne = ne_fun(r)\n",
    "    T = Ti_SM1(r)\n",
    "    Gamma = Gamma_fun(w,T,ne)\n",
    "    return R_SUN**3*(r/(R_ES*np.pi))**2 * (Gamma*w**2)/(expo(-(w/T))-1) /cmeV**2 / seV"
   ]
  },
  {
   "cell_type": "markdown",
   "id": "ca0281e1",
   "metadata": {},
   "source": [
    "## Fitting the Unsupressed Regime Flux to Different Functions"
   ]
  },
  {
   "cell_type": "markdown",
   "id": "7e5a1c30",
   "metadata": {},
   "source": [
    "### First Order Polynomial in an Exponential"
   ]
  },
  {
   "cell_type": "code",
   "execution_count": 92,
   "id": "887d4812",
   "metadata": {},
   "outputs": [],
   "source": [
    "def G1(w,a,c):\n",
    "    return np.exp(a*w+c)"
   ]
  },
  {
   "cell_type": "markdown",
   "id": "4990bd7d",
   "metadata": {},
   "source": [
    "### Second Order Polynomial in an Exponential"
   ]
  },
  {
   "cell_type": "code",
   "execution_count": 133,
   "id": "e3f35d96",
   "metadata": {},
   "outputs": [],
   "source": [
    "def G2(w,a,b,c):\n",
    "    return np.exp(a*w**2 + b*w +c)"
   ]
  },
  {
   "cell_type": "code",
   "execution_count": 113,
   "id": "de15b0b5",
   "metadata": {},
   "outputs": [
    {
     "name": "stdout",
     "output_type": "stream",
     "text": [
      "5.40362827349361e-09 -0.0010800923315066773 87.0473342693785\n"
     ]
    }
   ],
   "source": [
    "a,b,c  = np.polyfit(w_l_unsupp, np.log(np.array(int_F_uns)),2)\n",
    "print(a,b,c)"
   ]
  },
  {
   "cell_type": "code",
   "execution_count": 136,
   "id": "45402895",
   "metadata": {},
   "outputs": [
    {
     "data": {
      "image/png": "[encoded data removed]",
      "text/plain": [
       "<Figure size 432x288 with 1 Axes>"
      ]
     },
     "metadata": {
      "needs_background": "light"
     },
     "output_type": "display_data"
    }
   ],
   "source": [
    "plt.semilogy(w_l_unsupp, int_F_uns,'2', label = 'aprox')\n",
    "plt.semilogy(w_l_unsupp, err_int_F_uns, '--', label = 'err aprox')\n",
    "plt.semilogy(w_l_unsupp, int_F_uns_2 ,'2',label = 'integral F')\n",
    "plt.semilogy(w_l_unsupp, err_int_F_uns_2,'--' ,label = 'err integral F')\n",
    "plt.semilogy(w_l_unsupp, G1(w_l_unsupp, -0.0009, 86.147), label = 'G1(w)')\n",
    "# plt.semilogy(w_l_unsupp, G2(w_l_unsupp, 5.40362827349361e-09, -0.0010800923315066773, 87.0473342693785), label = 'G2(w)')\n",
    "plt.legend()\n",
    "plt.show()"
   ]
  },
  {
   "cell_type": "code",
   "execution_count": 142,
   "id": "6bdfc4e5",
   "metadata": {},
   "outputs": [
    {
     "data": {
      "image/png": "[encoded data removed]",
      "text/plain": [
       "<Figure size 432x288 with 1 Axes>"
      ]
     },
     "metadata": {
      "needs_background": "light"
     },
     "output_type": "display_data"
    }
   ],
   "source": [
    "plt.plot(w_l_unsupp, int_F_uns, label = 'aprox')\n",
    "# plt.plot(w_l_unsupp, err_int_F_uns, '--', label = 'err aprox')\n",
    "plt.plot(w_l_unsupp, int_F_uns_2 ,'2',label = 'integral F')\n",
    "# plt.plot(w_l_unsupp, err_int_F_uns_2,'--' ,label = 'err integral F')\n",
    "plt.plot(w_l_unsupp, G1(w_l_unsupp, -0.0009, 86.147), label = 'G1(w)')\n",
    "plt.plot(w_l_unsupp, G2(w_l_unsupp, 5.40362827349361e-09, -0.0010800923315066773, 87.0473342693785), label = 'G2(w)')\n",
    "plt.xlim(3100,5100)\n",
    "plt.legend()\n",
    "plt.show()"
   ]
  },
  {
   "cell_type": "code",
   "execution_count": 58,
   "id": "6edbbb77",
   "metadata": {},
   "outputs": [],
   "source": [
    "# plt.semilogy(w_l_unsupp,G(w_l_unsupp,3e+30,-2,3))"
   ]
  },
  {
   "cell_type": "markdown",
   "id": "36f744ab",
   "metadata": {},
   "source": [
    "## Wrinting Unsuppressed Regime Results in .txt"
   ]
  },
  {
   "cell_type": "code",
   "execution_count": 97,
   "id": "b06c2b37",
   "metadata": {},
   "outputs": [],
   "source": [
    "# aux = [w_l_unsupp, int_F_uns_2, err_int_F_uns_2,int_F_uns, err_int_F_uns,G1(w_l_unsupp, -0.0009, 86.147) , G2(w_l_unsupp, 5.40362827349361e-09, -0.0010800923315066773, 87.0473342693785)]\n",
    "w_l_unsupp = np.linspace(300,40000,70) #energy/frequency range for integrals in the simulation\n",
    "aux = [np.log10(w_l_unsupp), np.log10(G1(w_l_unsupp, -0.0009, 86.147))] \n",
    "data_unsup = list(zip(*aux))\n",
    "np.savetxt('flux_unsuppresed_2.dat', data_unsup, delimiter='\\t')"
   ]
  },
  {
   "cell_type": "code",
   "execution_count": 49,
   "id": "2830654a",
   "metadata": {},
   "outputs": [],
   "source": [
    "# unsupp = [r, F_unsupp(r,5000,m_max),F_unsupp(r,5500,m_max),F_unsupp(r,6000,m_max),F_unsupp(r,6500,m_max),F_unsupp(r,7000,m_max)]\n",
    "# data_unsupp = list(zip(*unsupp))\n",
    "# np.savetxt('PlanckSpectrum_unsupp.dat', data_unsupp, delimiter='\\t')"
   ]
  },
  {
   "cell_type": "markdown",
   "id": "ec226010",
   "metadata": {},
   "source": [
    "# SIMULATION WITHOUT PROB "
   ]
  },
  {
   "cell_type": "markdown",
   "id": "6080aad7",
   "metadata": {},
   "source": [
    "### NOTE: I have included this part in the code if the calculus of the raw HP flux is needed"
   ]
  },
  {
   "cell_type": "code",
   "execution_count": 43,
   "id": "dce684cd",
   "metadata": {},
   "outputs": [],
   "source": [
    "w_l_sim = np.logspace(2,4,30)#energy/frequency range for integrals\n",
    "m_values =  np.logspace(-3,-1,len(w_l_sim)) # array with different mass values for HP in eV"
   ]
  },
  {
   "cell_type": "code",
   "execution_count": 9,
   "id": "372312d2",
   "metadata": {},
   "outputs": [],
   "source": [
    "result_sim = []\n",
    "a, b, n = w_l[0], w_l[-1], 1000\n",
    "for m_sim in m_values:\n",
    "    int_F_sim, err_int_F_sim = [],[]\n",
    "    for w_it in w_l_sim:\n",
    "        # I,e = quad(F_withProb, r_SM1[0], r_SM1[-1], args=(w_it,m_sim),epsrel=1e-50, epsabs=1e-70,limit=1000) \n",
    "        I,e = quad(F, r_SM1[0], r_SM1[-1], args=(w_it,m_sim))\n",
    "        int_F_sim.append(I)\n",
    "        err_int_F_sim.append(e)\n",
    "        \n",
    "    integral_interpol_sim = interpolate.interp1d(w_l_sim, int_F_sim, kind='cubic')\n",
    "    result_integral_sim = trapezoid_rule(integral_interpol_sim, a, b, n)\n",
    "    result_sim.append(result_integral_sim)"
   ]
  },
  {
   "cell_type": "code",
   "execution_count": 85,
   "id": "be6b00d8",
   "metadata": {},
   "outputs": [],
   "source": [
    "chi_values, N_values = [], []\n",
    "n_sigmas = 2\n",
    "for flux in result_sim: #flux in 1/(cm^2 eV s), A in cm^2, t in s, b in 1/(cm^2 eV s), a in cm^2 and therefore chi adim\n",
    "    N_sim = flux * detector[2] * detector[8] * detector[9]\n",
    "#     print(detector[2], detector[8], detector[9])\n",
    "    N_values.append(N_sim)\n",
    "    chi = (n_sigmas*np.sqrt(detector[4]* detector[7])/N_sim)**(1/4)\n",
    "    chi_values.append(chi)\n",
    "\n",
    "#integral_interpol_chi = interpolate.interp1d(m_values, chi_values, kind='cubic')"
   ]
  },
  {
   "cell_type": "code",
   "execution_count": 87,
   "id": "be65bb33",
   "metadata": {},
   "outputs": [
    {
     "data": {
      "text/plain": [
       "[<matplotlib.lines.Line2D at 0x1e350343d00>]"
      ]
     },
     "execution_count": 87,
     "metadata": {},
     "output_type": "execute_result"
    },
    {
     "data": {
      "image/png": "[encoded data removed]",
      "text/plain": [
       "<Figure size 432x288 with 1 Axes>"
      ]
     },
     "metadata": {
      "needs_background": "light"
     },
     "output_type": "display_data"
    }
   ],
   "source": [
    "plt.plot(np.log10(m_values), np.log10(chi_values))"
   ]
  },
  {
   "cell_type": "markdown",
   "id": "0ada6204",
   "metadata": {},
   "source": [
    "# SIMULATION WITH PROB INCLUDED "
   ]
  },
  {
   "cell_type": "markdown",
   "id": "650c62cd",
   "metadata": {},
   "source": [
    "## Select Regime of Production"
   ]
  },
  {
   "cell_type": "code",
   "execution_count": 103,
   "id": "1e0c143f",
   "metadata": {},
   "outputs": [],
   "source": [
    "# regime = 0 # Full integral\n",
    "regime = 1 # Suppressed Regime\n",
    "# regime = 2 # Resonant Regime"
   ]
  },
  {
   "cell_type": "markdown",
   "id": "5f8605fa",
   "metadata": {},
   "source": [
    "## With/Without Gas"
   ]
  },
  {
   "cell_type": "code",
   "execution_count": 102,
   "id": "9be36ce5",
   "metadata": {},
   "outputs": [],
   "source": [
    "flag_gas = True # True means Gas inside the cavity"
   ]
  },
  {
   "cell_type": "markdown",
   "id": "1f5f7263",
   "metadata": {},
   "source": [
    "## Select $m_{\\gamma '}$ values for simulation "
   ]
  },
  {
   "cell_type": "code",
   "execution_count": 141,
   "id": "c2e01688",
   "metadata": {},
   "outputs": [],
   "source": [
    "if regime == 0:\n",
    "    m_values_prob =  np.logspace(1,2,len(w_l_sim_prob)) #different mass values for HP in eV (from -3.5 to 2.7, in logscale)\n",
    "    r_solution = []\n",
    "\n",
    "    for m_it in m_values_prob:\n",
    "        m_aux2 = m_it**2 #mass eV\n",
    "        sol = optimize.root(wp2_fun_root, 0.3, args=(m_aux2))\n",
    "        r_solution.append(sol.x[0])\n",
    "    r_solution = np.array(r_solution)\n",
    "    \n",
    "elif regime == 1:\n",
    "    m_values_prob =  np.logspace(-1.5,0,len(w_l_sim_prob)) #different mass values for HP in eV (from -3.5 to 0, in logscale)\n",
    "    \n",
    "elif regime == 2:\n",
    "    m_values_prob =  np.logspace(-0.5,0.5,len(w_l_sim_prob)) #different mass values for HP in eV (from 0 to 2.5, in logscale)"
   ]
  },
  {
   "cell_type": "markdown",
   "id": "12d64766",
   "metadata": {},
   "source": [
    "# Body of the Simulation"
   ]
  },
  {
   "cell_type": "markdown",
   "id": "aa1ce415",
   "metadata": {},
   "source": [
    "## SIMULATION WITHOUT GAS "
   ]
  },
  {
   "cell_type": "code",
   "execution_count": null,
   "id": "c25eff6f",
   "metadata": {},
   "outputs": [
    {
     "name": "stderr",
     "output_type": "stream",
     "text": [
      "  0%|                                                                                          | 0/100 [00:00<?, ?it/s]C:\\Users\\Miguel Plasencia\\AppData\\Local\\Temp\\ipykernel_23444\\3021231974.py:9: IntegrationWarning: The maximum number of subdivisions (200) has been achieved.\n",
      "  If increasing the limit yields no improvement it is advised to analyze \n",
      "  the integrand in order to determine the difficulties.  If the position of a \n",
      "  local difficulty can be determined (singularity, discontinuity) one will \n",
      "  probably gain from splitting up the interval and calling the integrator \n",
      "  on the subranges.  Perhaps a special-purpose integrator should be used.\n",
      "  I,e = quad(F_withProb, r_SM1[0], r_SM1[-1], args=(w_it,m_sim,flag_gas, 1), epsabs=1e-8, limit=200, points=r_solution )\n",
      "  3%|██▎                                                                            | 3/100 [06:36<3:33:59, 132.36s/it]"
     ]
    }
   ],
   "source": [
    "result_sim_prob = []\n",
    "a, b, n = w_l_sim_prob[0], w_l_sim_prob[-1], 1000\n",
    "\n",
    "for m_sim in tqdm(m_values_prob):\n",
    "    int_F_sim_prob = []\n",
    "    for w_it in w_l_sim_prob:\n",
    "        #full integral\n",
    "        if regime == 0:\n",
    "            I,e = quad(F_withProb, r_SM1[0], r_SM1[-1], args=(w_it,m_sim,flag_gas, 1), epsabs=1e-8, limit=200, points=r_solution )\n",
    "            \n",
    "        #Supressed Regime    \n",
    "        elif regime == 1:\n",
    "                I = F_supp_analitica(w_it,m_sim,flag_gas)[0]\n",
    "\n",
    "        #Resonant Regime    \n",
    "        elif regime == 2:\n",
    "            sol = optimize.root(wp2_fun_root, 0.3, args=(m_sim))\n",
    "            r_resonant = sol.x[0]\n",
    "            I = F_res(float(r_resonant), w_it, m_sim, float(Deriv_interpol(r_resonant)), True)[0]\n",
    "        \n",
    "        int_F_sim_prob.append(I)\n",
    "        \n",
    "    integral_interpol_sim_prob = interpolate.interp1d(w_l_sim_prob, int_F_sim_prob, kind='cubic')\n",
    "    result_integral_sim_prob = trapezoid_rule(integral_interpol_sim_prob, a, b, n)\n",
    "    result_sim_prob.append(result_integral_sim_prob)"
   ]
  },
  {
   "cell_type": "code",
   "execution_count": 107,
   "id": "13c9932d",
   "metadata": {},
   "outputs": [
    {
     "name": "stderr",
     "output_type": "stream",
     "text": [
      "100%|████████████████████████████████████████████████████████████████████████████████████████| 100/100 [00:00<?, ?it/s]\n"
     ]
    }
   ],
   "source": [
    "chi_values_prob, N_values_prob = [], []\n",
    "n_sigmas = 2\n",
    "\n",
    "for flux in tqdm(result_sim_prob): #flux in 1/(cm^2 eV s), A in cm^2, t in s, b in 1/(cm^2 eV s), a in cm^2 and therefore chi adim\n",
    "    N_sim = flux * detector[2] * detector[8] * detector[9]\n",
    "#     print(detector[2], detector[8], detector[9])\n",
    "    N_values_prob.append(N_sim)\n",
    "    N_fondo =  n_sigmas*poisson_likelihood(1,1)\n",
    "    chi = (N_fondo/N_sim)**(1/4)\n",
    "    chi_values_prob.append(chi)\n",
    "\n",
    "interpol_chi = interpolate.interp1d(m_values_prob, chi_values_prob, kind='cubic')"
   ]
  },
  {
   "cell_type": "code",
   "execution_count": 108,
   "id": "5e969e2f",
   "metadata": {},
   "outputs": [
    {
     "data": {
      "text/plain": [
       "[<matplotlib.lines.Line2D at 0x182d4bb0d00>]"
      ]
     },
     "execution_count": 108,
     "metadata": {},
     "output_type": "execute_result"
    },
    {
     "data": {
      "image/png": "[encoded data removed]",
      "text/plain": [
       "<Figure size 432x288 with 1 Axes>"
      ]
     },
     "metadata": {
      "needs_background": "light"
     },
     "output_type": "display_data"
    }
   ],
   "source": [
    "# interpol_chi = interpolate.interp1d(m_values_prob, chi_values_prob, kind='cubic')\n",
    "plt.loglog(m_values_prob, interpol_chi(m_values_prob))"
   ]
  },
  {
   "cell_type": "code",
   "execution_count": 109,
   "id": "afae2272",
   "metadata": {},
   "outputs": [],
   "source": [
    "#results_CHI_vs_m = [np.log10(m_values_prob), np.log10(interpol_chi(m_values_prob))]\n",
    "results_CHI_vs_m = [np.log10(interpol_chi(m_values_prob))]\n",
    "data_results_CHI_vs_m = list(zip(*results_CHI_vs_m))\n",
    "np.savetxt('GOOD_data_results_CHI_vs_m_W500_W15000_GAS.dat', data_results_CHI_vs_m, delimiter='\\t')"
   ]
  },
  {
   "cell_type": "markdown",
   "id": "81a1ffc5",
   "metadata": {},
   "source": [
    "## SIMULATION WITH GAS (https://inspirebeta.net/files/8c9e54009a1ce3068e7e68418c05ad9f)"
   ]
  },
  {
   "cell_type": "code",
   "execution_count": 142,
   "id": "12524b96",
   "metadata": {},
   "outputs": [
    {
     "name": "stderr",
     "output_type": "stream",
     "text": [
      "100%|████████████████████████████████████████████████████████████████████████████████| 100/100 [05:33<00:00,  3.34s/it]\n"
     ]
    },
    {
     "data": {
      "text/plain": [
       "Text(0, 0.5, '$N_\\\\gamma$ esperados')"
      ]
     },
     "execution_count": 142,
     "metadata": {},
     "output_type": "execute_result"
    },
    {
     "data": {
      "image/png": "[encoded data removed]",
      "text/plain": [
       "<Figure size 432x288 with 1 Axes>"
      ]
     },
     "metadata": {
      "needs_background": "light"
     },
     "output_type": "display_data"
    }
   ],
   "source": [
    "result_sim_prob = []\n",
    "a, b, n = w_l_sim_prob[0], w_l_sim_prob[-1], 1000\n",
    "#For the simulartion with Gas\n",
    "wp = 1e-2\n",
    "et_gas,  wpt = [], [wp] #Result experiment table, initial plasma frequency, plasma frequency table\n",
    "\n",
    "num_exp_max = 100\n",
    "# for num_exp in tqdm(range(num_exp_max)):\n",
    "wp_simul = np.linspace(1e-1, 1e-0, num_exp_max)\n",
    "for wp in tqdm(wp_simul):\n",
    "    result_sim_prob = []\n",
    "    for m_sim in m_values_prob:\n",
    "        int_F_sim_prob = []\n",
    "        for w_it in w_l_sim_prob:\n",
    "            if flag_gas: #with gas            \n",
    "                gg = GG(wp,w_it,T_K=300)\n",
    "                Prob_gas = Prob_HP_Photon_GAS(w_it,wp**2,m_sim**2,detector[1]/cmeV,gg)\n",
    "                I = (F_supp_analitica(w_it,m_sim,flag_gas)[0]) * Prob_gas\n",
    "                \n",
    "                \n",
    "            int_F_sim_prob.append(I)            \n",
    "    \n",
    "        integral_interpol_sim_prob = interpolate.interp1d(w_l_sim_prob, int_F_sim_prob, kind='cubic')\n",
    "        result_integral_sim_prob = trapezoid_rule(integral_interpol_sim_prob, a, b, n)\n",
    "        result_sim_prob.append(result_integral_sim_prob *detector[2] * detector[8]/num_exp_max * detector[9]) # flux x area x time \n",
    "  \n",
    "    result_interpol_sim_prob = interpolate.interp1d(m_values_prob, result_sim_prob, kind='cubic')\n",
    "#     plt.loglog(m_values_prob, result_interpol_sim_prob(m_values_prob))\n",
    "    plt.semilogy(m_values_prob, result_interpol_sim_prob(m_values_prob))\n",
    "    et_gas.append(result_interpol_sim_prob(m_values_prob))\n",
    "    \n",
    "    #deriv_2 = derivative(result_interpol_sim_prob, m_values_prob, n=2)\n",
    "    #deriv_2 = (result_interpol_sim_prob(wp + wp/1000)+result_interpol_sim_prob(wp - wp/1000)- 2*result_interpol_sim_prob(wp))/(wp/1000)**2\n",
    "    #wpt.append(wp)\n",
    "    #print(wp, np.sqrt(-np.max(result_interpol_sim_prob(m_values_prob))/deriv_2(wp)))\n",
    "#     wp = np.sqrt(wp**2 + 12*w_eV/(20/2e-7))\n",
    "\n",
    "result_sim_prob = np.array(result_sim_prob)\n",
    "et_gas=np.array(et_gas)                       \n",
    "# plt.loglog(m_values_prob,et.sum(axis=0),'k')\n",
    "plt.semilogy(m_values_prob,et_gas.sum(axis=0),'k')\n",
    "# plt.loglog(mt,2e8*mt**3)\n",
    "plt.xlabel(r'$m_{\\rm HP}$ [eV]')\n",
    "plt.ylabel(r'$N_\\gamma$ esperados')"
   ]
  },
  {
   "cell_type": "code",
   "execution_count": 143,
   "id": "254693b6",
   "metadata": {},
   "outputs": [
    {
     "data": {
      "text/plain": [
       "[<matplotlib.lines.Line2D at 0x1837c865e20>]"
      ]
     },
     "execution_count": 143,
     "metadata": {},
     "output_type": "execute_result"
    },
    {
     "data": {
      "image/png": "[encoded data removed]",
      "text/plain": [
       "<Figure size 432x288 with 1 Axes>"
      ]
     },
     "metadata": {
      "needs_background": "light"
     },
     "output_type": "display_data"
    }
   ],
   "source": [
    "chi = (poisson_likelihood(num_exp_max, 1)/et_gas.sum(axis=0))**(1/4)\n",
    "interpol_chi = interpolate.interp1d(m_values_prob, chi, kind='cubic')\n",
    "plt.loglog(m_values_prob, interpol_chi(m_values_prob) )"
   ]
  },
  {
   "cell_type": "code",
   "execution_count": 146,
   "id": "efd38d65",
   "metadata": {},
   "outputs": [],
   "source": [
    "results_CHI_vs_m = [np.log10(m_values_prob), np.log10(interpol_chi(m_values_prob))]\n",
    "data_results_CHI_vs_m = list(zip(*results_CHI_vs_m))\n",
    "np.savetxt('vencer_xenon.dat', data_results_CHI_vs_m, delimiter='\\t')"
   ]
  },
  {
   "cell_type": "code",
   "execution_count": 145,
   "id": "6d4baba1",
   "metadata": {},
   "outputs": [
    {
     "data": {
      "text/plain": [
       "-11.611754406099053"
      ]
     },
     "execution_count": 145,
     "metadata": {},
     "output_type": "execute_result"
    }
   ],
   "source": [
    "np.log10(interpol_chi(0.7))"
   ]
  },
  {
   "cell_type": "code",
   "execution_count": 127,
   "id": "15b2d839",
   "metadata": {},
   "outputs": [],
   "source": [
    "# results_Nexp_vs_m = [np.log10(m_values_prob), np.log10(et[0]/max(et[0])), np.log10(et[1]/max(et[1])), np.log10(et[2]/max(et[2])), np.log10(et[3]/max(et[3])),np.log10(et[4]/max(et[4])),et.sum(axis=0)/max(et.sum(axis=0)),interpol_chi(m_values_prob)/np.min(interpol_chi(m_values_prob))]\n",
    "#results_Nexp_vs_m = [np.log10(m_values_prob), np.log10(et[0]), np.log10(et[1]), np.log10(et[2]), np.log10(et[3]),np.log10(et[4]),np.log10(et.sum(axis=0)),np.log10(interpol_chi(m_values_prob))]\n",
    "#results_Nexp_vs_m = [np.log10(m_values_prob), np.log10(for row in len(et): et[row])]\n",
    "results_chi_vs_m = [np.log10(m_values_prob), np.log10(interpol_chi(m_values_prob))]\n",
    "#results_chi_vs_m = [np.log10(m_values_prob), np.log10(chi_values_prob)]\n",
    "data_results_Nexp100_chi_vs_m = list(zip(*results_chi_vs_m))\n",
    "np.savetxt('data_results_Iaxo_Nexp100_vs_m_W500_W15000_GAS_Poisson.dat', data_results_Nexp100_chi_vs_m, delimiter='\\t')"
   ]
  },
  {
   "cell_type": "markdown",
   "id": "6beca233",
   "metadata": {},
   "source": [
    "### INTENTO CON LO DE JAVIER"
   ]
  },
  {
   "cell_type": "code",
   "execution_count": 32,
   "id": "035afd26",
   "metadata": {},
   "outputs": [],
   "source": [
    "# result_sim_prob = []\n",
    "# a, b, n = w_l_sim_prob[0], w_l_sim_prob[-1], 1000\n",
    "# #For the simulartion with Gas\n",
    "# wp = 1e-2\n",
    "# et,  wpt = [], [wp] #Result experiment table, initial plasma frequency, plasma frequency table\n",
    "\n",
    "# num_exp_max = 5\n",
    "# # for num_exp in tqdm(range(num_exp_max)):\n",
    "# # wp_simul = np.linspace(1e-2, 3e-2, num_exp_max)\n",
    "# for exp in tqdm(range(num_exp_max)):\n",
    "#     result_sim_prob = []\n",
    "#     for m_sim in m_values_prob:\n",
    "#         int_F_sim_prob = []\n",
    "#         for w_it in w_l_sim_prob:\n",
    "#             if flag_gas: #with gas            \n",
    "#                 gg = GG(wp,w_it,T_K=1.8)\n",
    "#                 Prob_gas = Prob_HP_Photon_GAS(w_it,wp**2,m_sim**2,detector[1]/cmeV,gg)\n",
    "#                 #Prob_gas = wp**4*(detector[1]/cmeV)**2/w_it**2\n",
    "#                 I = (F_supp_analitica(w_it,m_sim,flag_gas)[0]) * Prob_gas\n",
    "#                 wp = np.sqrt(wp**2 + 12*w_it/(detector[1]/cmeV))\n",
    "                \n",
    "#             int_F_sim_prob.append(I)            \n",
    "    \n",
    "#         integral_interpol_sim_prob = interpolate.interp1d(w_l_sim_prob, int_F_sim_prob, kind='cubic')\n",
    "#         result_integral_sim_prob = trapezoid_rule(integral_interpol_sim_prob, a, b, n)\n",
    "#         result_sim_prob.append(result_integral_sim_prob *detector[2] * detector[8]/num_exp_max * detector[9]) # flux x area x time \n",
    "  \n",
    "#     result_interpol_sim_prob = interpolate.interp1d(m_values_prob, result_sim_prob, kind='cubic')\n",
    "# #     plt.loglog(m_values_prob, result_interpol_sim_prob(m_values_prob))\n",
    "#     plt.semilogy(m_values_prob, result_interpol_sim_prob(m_values_prob))\n",
    "#     et.append(result_interpol_sim_prob(m_values_prob))\n",
    "    \n",
    "#     #deriv_2 = derivative(result_interpol_sim_prob, m_values_prob, n=2)\n",
    "#     #deriv_2 = (result_interpol_sim_prob(wp + wp/1000)+result_interpol_sim_prob(wp - wp/1000)- 2*result_interpol_sim_prob(wp))/(wp/1000)**2\n",
    "#     #wpt.append(wp)\n",
    "#     #print(wp, np.sqrt(-np.max(result_interpol_sim_prob(m_values_prob))/deriv_2(wp)))\n",
    "    \n",
    "\n",
    "# result_sim_prob = np.array(result_sim_prob)\n",
    "# et=np.array(et)                       \n",
    "# # plt.loglog(m_values_prob,et.sum(axis=0),'k')\n",
    "# plt.semilogy(m_values_prob,et.sum(axis=0),'k')\n",
    "# # plt.loglog(mt,2e8*mt**3)\n",
    "# plt.xlabel(r'$m_{\\rm HP}$ [eV]')\n",
    "# plt.ylabel(r'$N_\\gamma$ esperados')"
   ]
  },
  {
   "cell_type": "code",
   "execution_count": 52,
   "id": "059c98d4",
   "metadata": {},
   "outputs": [],
   "source": [
    "# results_Nexp_vs_m = [np.log10(m_values_prob), np.log10(et[0]/max(et[0])), np.log10(et[1]/max(et[1])), np.log10(et[2]/max(et[2])), np.log10(et[3]/max(et[3])),np.log10(et[4]/max(et[4])),et.sum(axis=0)/max(et.sum(axis=0)),interpol_chi(m_values_prob)/np.min(interpol_chi(m_values_prob))]\n",
    "results_Nexp_vs_m = [np.log10(m_values_prob), np.log10(et[0]), np.log10(et[1]), np.log10(et[2]), np.log10(et[3]),np.log10(et[4]),np.log10(et.sum(axis=0)),np.log10(interpol_chi(m_values_prob))]\n",
    "\n",
    "# results_chi_vs_m = [np.log10(m_values_prob), np.log10(chi_values_prob)]\n",
    "data_results_Nexp_vs_m = list(zip(*results_Nexp_vs_m))\n",
    "np.savetxt('data_results_Nexp_vs_m_W500_W15000_GASv3.dat', data_results_Nexp_vs_m, delimiter='\\t')"
   ]
  },
  {
   "cell_type": "markdown",
   "id": "e7f2b7e0",
   "metadata": {},
   "source": [
    "# Results Simulation"
   ]
  },
  {
   "cell_type": "code",
   "execution_count": 85,
   "id": "a9ce1ec6",
   "metadata": {},
   "outputs": [
    {
     "data": {
      "text/plain": [
       "[<matplotlib.lines.Line2D at 0x275dfb69520>]"
      ]
     },
     "execution_count": 85,
     "metadata": {},
     "output_type": "execute_result"
    },
    {
     "data": {
      "image/png": "[encoded data removed]",
      "text/plain": [
       "<Figure size 432x288 with 1 Axes>"
      ]
     },
     "metadata": {
      "needs_background": "light"
     },
     "output_type": "display_data"
    }
   ],
   "source": [
    "# plt.plot(np.log10(m_values_prob), np.log10(chi_values_prob))\n",
    "plt.plot(np.log10(m_values_prob), np.log10(interpol_chi(m_values_prob)))"
   ]
  },
  {
   "cell_type": "code",
   "execution_count": 96,
   "id": "b7b46909",
   "metadata": {},
   "outputs": [],
   "source": [
    "results_chi_vs_m = [np.log10(m_values_prob), np.log10(interpol_chi(m_values_prob))]\n",
    "# results_chi_vs_m = [np.log10(m_values_prob), np.log10(chi_values_prob)]\n",
    "data_results_chi_vs_m = list(zip(*results_chi_vs_m))\n",
    "np.savetxt('data_results_chi_vs_m_W500_W15000_GAS.dat', data_results_chi_vs_m, delimiter='\\t')"
   ]
  },
  {
   "cell_type": "code",
   "execution_count": 104,
   "id": "412364df",
   "metadata": {},
   "outputs": [],
   "source": [
    "results_chi_vs_m = [np.log10(interpol_chi(m_values_prob))]\n",
    "#results_chi_vs_m = [np.log10(chi_values_prob)]\n",
    "data_results_chi_vs_m = list(zip(*results_chi_vs_m))\n",
    "np.savetxt('data_results_chi_vs_m_W500_W15000_GAS.dat', data_results_chi_vs_m, delimiter='\\t')"
   ]
  },
  {
   "cell_type": "markdown",
   "id": "b0aa9bc2",
   "metadata": {},
   "source": [
    "# Some Plots"
   ]
  },
  {
   "cell_type": "code",
   "execution_count": 38,
   "id": "ecf31b44",
   "metadata": {},
   "outputs": [
    {
     "data": {
      "image/png": "[encoded data removed]",
      "text/plain": [
       "<Figure size 432x288 with 1 Axes>"
      ]
     },
     "metadata": {
      "needs_background": "light"
     },
     "output_type": "display_data"
    }
   ],
   "source": [
    "plt.plot(r, Ti_SM1(r)/1000, label='T [keV]')\n",
    "plt.plot(r, XHi_SM1(r), label='XHi_SM1')\n",
    "plt.plot(r, XHei_SM1(r), label='XHei_SM1')\n",
    "plt.plot(r, rhoi_SM1(r)/rhoi_SM1(r[0]), label=r'rhoi_SM1 [$\\rho_0$]')\n",
    "plt.xlabel('r')\n",
    "plt.legend()\n",
    "plt.show()"
   ]
  },
  {
   "cell_type": "markdown",
   "id": "21d55659",
   "metadata": {},
   "source": [
    "## Previous  Plots and Previsualization "
   ]
  },
  {
   "cell_type": "markdown",
   "id": "853300c6",
   "metadata": {},
   "source": [
    "### FOR TOTAL FLUX"
   ]
  },
  {
   "cell_type": "code",
   "execution_count": 127,
   "id": "f9aaf26c",
   "metadata": {
    "scrolled": true
   },
   "outputs": [
    {
     "data": {
      "image/png": "[encoded data removed]",
      "text/plain": [
       "<Figure size 432x288 with 1 Axes>"
      ]
     },
     "metadata": {
      "needs_background": "light"
     },
     "output_type": "display_data"
    }
   ],
   "source": [
    "# For same mass value and different r values\n",
    "plt.loglog(w,F(0.01,w,m_min), label = '$r=0.01$')\n",
    "plt.loglog(w,F(0.1,w,m_min), label = '$r=0.1$')\n",
    "plt.loglog(w,F(0.7,w,m_min), label = '$r=0.7$')\n",
    "plt.xlabel('$\\omega [eV]$')\n",
    "plt.ylabel('$F(r, \\omega, m) $') \n",
    "plt.legend()\n",
    "#plt.xlim(10e2,10e6)\n",
    "plt.show()"
   ]
  },
  {
   "cell_type": "markdown",
   "id": "5b5ffa11",
   "metadata": {},
   "source": [
    "### Searching for Resonances"
   ]
  },
  {
   "cell_type": "code",
   "execution_count": 128,
   "id": "c8d1d0cd",
   "metadata": {},
   "outputs": [
    {
     "data": {
      "image/png": "[encoded data removed]",
      "text/plain": [
       "<Figure size 432x288 with 1 Axes>"
      ]
     },
     "metadata": {
      "needs_background": "light"
     },
     "output_type": "display_data"
    }
   ],
   "source": [
    "#r = np.linspace(r_SM1[0],r_SM1[len(r_SM1)-2],1000)\n",
    "#T = Ti_SM1(r)\n",
    "for w_it in [110,1000,10000]:\n",
    "    y = F(r,w_it,100)\n",
    "    plt.semilogy(r,y,label=r'$\\omega$ = %d eV, m = 100 eV'%w_it)\n",
    "    ymax=max(y.max(),ymax)\n",
    "    \n",
    "plt.xlabel('$r/R_o$')\n",
    "plt.ylabel('$d\\Phi/dw$')\n",
    "# plt.ylim(y[0]/100,y.max()*2)\n",
    "plt.ylim(y[0]/100,ymax*2)\n",
    "plt.legend()\n",
    "plt.show()\n"
   ]
  },
  {
   "cell_type": "code",
   "execution_count": 129,
   "id": "4d03f8ac",
   "metadata": {},
   "outputs": [
    {
     "data": {
      "image/png": "[encoded data removed]",
      "text/plain": [
       "<Figure size 432x288 with 1 Axes>"
      ]
     },
     "metadata": {
      "needs_background": "light"
     },
     "output_type": "display_data"
    }
   ],
   "source": [
    "for mu in [100,10,6,5]:\n",
    "    y = F(r,1000.,mu)\n",
    "#     y2 = y.max()\n",
    "    plt.plot(r,y,label=r'$\\omega$ = keV, m = %d eV'%mu)\n",
    "#     ymax=max(y.max(),ymax)\n",
    "    \n",
    "plt.xlabel('$r/R_o$')\n",
    "plt.ylabel('$d\\Phi/dw$')\n",
    "# plt.ylim(y[0]/100,y.max()*2)\n",
    "# plt.ylim(y[0]/100,ymax*2)\n",
    "plt.legend()\n",
    "plt.show()"
   ]
  },
  {
   "cell_type": "markdown",
   "id": "a999feec",
   "metadata": {},
   "source": [
    "### Integral Results"
   ]
  },
  {
   "cell_type": "code",
   "execution_count": 135,
   "id": "9e922ffb",
   "metadata": {
    "scrolled": true
   },
   "outputs": [
    {
     "data": {
      "image/png": "[encoded data removed]",
      "text/plain": [
       "<Figure size 432x288 with 1 Axes>"
      ]
     },
     "metadata": {
      "needs_background": "light"
     },
     "output_type": "display_data"
    }
   ],
   "source": [
    "plt.loglog(w_l,int_F, '.',label= 'Integral')\n",
    "plt.loglog(w_l,err_int_F, 'C1--',label='error')\n",
    "plt.loglog(w_l, integral_interpol_F(w_l),label = 'fit')\n",
    "plt.xlabel('$\\omega\\; [eV]$')\n",
    "plt.ylabel('$d\\Phi/dw$')\n",
    "plt.legend()\n",
    "plt.show()"
   ]
  }
 ],
 "metadata": {
  "kernelspec": {
   "display_name": "Python 3 (ipykernel)",
   "language": "python",
   "name": "python3"
  },
  "language_info": {
   "codemirror_mode": {
    "name": "ipython",
    "version": 3
   },
   "file_extension": ".py",
   "mimetype": "text/x-python",
   "name": "python",
   "nbconvert_exporter": "python",
   "pygments_lexer": "ipython3",
   "version": "3.9.12"
  }
 },
 "nbformat": 4,
 "nbformat_minor": 5
}
